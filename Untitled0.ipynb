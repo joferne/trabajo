{
  "nbformat": 4,
  "nbformat_minor": 0,
  "metadata": {
    "colab": {
      "provenance": [],
      "authorship_tag": "ABX9TyNKOD7oEhEvNtx2aR+AoJ9C",
      "include_colab_link": true
    },
    "kernelspec": {
      "name": "python3",
      "display_name": "Python 3"
    },
    "language_info": {
      "name": "python"
    }
  },
  "cells": [
    {
      "cell_type": "markdown",
      "metadata": {
        "id": "view-in-github",
        "colab_type": "text"
      },
      "source": [
        "<a href=\"https://colab.research.google.com/github/joferne/trabajo/blob/main/Untitled0.ipynb\" target=\"_parent\"><img src=\"https://colab.research.google.com/assets/colab-badge.svg\" alt=\"Open In Colab\"/></a>"
      ]
    },
    {
      "cell_type": "markdown",
      "source": [
        "**INSTALACIÓN DE LIBRERÍAS**"
      ],
      "metadata": {
        "id": "hi3sW6xgbRZA"
      }
    },
    {
      "cell_type": "code",
      "execution_count": 7,
      "metadata": {
        "colab": {
          "base_uri": "https://localhost:8080/",
          "height": 130
        },
        "id": "WE_nV_2vYU7g",
        "outputId": "a2ce9e57-7215-41cd-af84-b687ab958402"
      },
      "outputs": [
        {
          "output_type": "error",
          "ename": "SyntaxError",
          "evalue": "ignored",
          "traceback": [
            "\u001b[0;36m  File \u001b[0;32m\"<ipython-input-7-d2ee4acb10f5>\"\u001b[0;36m, line \u001b[0;32m2\u001b[0m\n\u001b[0;31m    pip install keras\u001b[0m\n\u001b[0m        ^\u001b[0m\n\u001b[0;31mSyntaxError\u001b[0m\u001b[0;31m:\u001b[0m invalid syntax\n"
          ]
        }
      ],
      "source": [
        "# pip install h5py"
      ]
    },
    {
      "cell_type": "markdown",
      "source": [
        "**IMPORTACIÓN DE LIBRERÍAS**"
      ],
      "metadata": {
        "id": "jZrZxDAVbYY6"
      }
    },
    {
      "cell_type": "code",
      "source": [
        "import numpy\n",
        "import h5py\n",
        "import sklearn\n",
        "import cv2"
      ],
      "metadata": {
        "id": "Ys7tOA1Fa-2z"
      },
      "execution_count": 11,
      "outputs": []
    },
    {
      "cell_type": "markdown",
      "source": [
        "**REPOSITORIO DE FASTER-RCNN**"
      ],
      "metadata": {
        "id": "67KPJVjCbc-x"
      }
    },
    {
      "cell_type": "code",
      "source": [
        "!wget https://github.com/Vinayak96/people_detection.git"
      ],
      "metadata": {
        "colab": {
          "base_uri": "https://localhost:8080/"
        },
        "id": "BZDqfmEuYcCt",
        "outputId": "b08dd966-385f-4a42-f352-776ce190b3ee"
      },
      "execution_count": 2,
      "outputs": [
        {
          "output_type": "stream",
          "name": "stdout",
          "text": [
            "--2023-02-04 07:44:37--  https://github.com/Vinayak96/people_detection.git\n",
            "Resolving github.com (github.com)... 140.82.114.3\n",
            "Connecting to github.com (github.com)|140.82.114.3|:443... connected.\n",
            "HTTP request sent, awaiting response... 301 Moved Permanently\n",
            "Location: https://github.com/Vinayak96/people_detection [following]\n",
            "--2023-02-04 07:44:37--  https://github.com/Vinayak96/people_detection\n",
            "Reusing existing connection to github.com:443.\n",
            "HTTP request sent, awaiting response... 200 OK\n",
            "Length: unspecified [text/html]\n",
            "Saving to: ‘people_detection.git’\n",
            "\n",
            "people_detection.gi     [ <=>                ] 201.81K  --.-KB/s    in 0.1s    \n",
            "\n",
            "2023-02-04 07:44:37 (2.01 MB/s) - ‘people_detection.git’ saved [206651]\n",
            "\n"
          ]
        }
      ]
    },
    {
      "cell_type": "code",
      "source": [
        "!unzip people_detection-master.zip"
      ],
      "metadata": {
        "colab": {
          "base_uri": "https://localhost:8080/"
        },
        "id": "FFM12B5tYlzn",
        "outputId": "76190737-f5ba-465f-e4ac-0ebff5e78495"
      },
      "execution_count": 4,
      "outputs": [
        {
          "output_type": "stream",
          "name": "stdout",
          "text": [
            "Archive:  people_detection-master.zip\n",
            "8f63a5568db5841fbcebd64fa0e46281e1800e02\n",
            "   creating: people_detection-master/\n",
            "  inflating: people_detection-master/.DS_Store  \n",
            "  inflating: people_detection-master/.gitignore  \n",
            "  inflating: people_detection-master/README.md  \n",
            "  inflating: people_detection-master/Vinayak_Agarwal.pdf  \n",
            "  inflating: people_detection-master/_config.yml  \n",
            "   creating: people_detection-master/keras-frcnn/\n",
            "  inflating: people_detection-master/keras-frcnn/.DS_Store  \n",
            "  inflating: people_detection-master/keras-frcnn/.gitignore  \n",
            "  inflating: people_detection-master/keras-frcnn/LICENSE  \n",
            "  inflating: people_detection-master/keras-frcnn/README.md  \n",
            "   creating: people_detection-master/keras-frcnn/default model/\n",
            "  inflating: people_detection-master/keras-frcnn/default model/config.pickle  \n",
            "   creating: people_detection-master/keras-frcnn/keras_frcnn/\n",
            "  inflating: people_detection-master/keras-frcnn/keras_frcnn/FixedBatchNormalization.py  \n",
            "  inflating: people_detection-master/keras-frcnn/keras_frcnn/RoiPoolingConv.py  \n",
            " extracting: people_detection-master/keras-frcnn/keras_frcnn/__init__.py  \n",
            "  inflating: people_detection-master/keras-frcnn/keras_frcnn/config.py  \n",
            "  inflating: people_detection-master/keras-frcnn/keras_frcnn/data_augment.py  \n",
            "  inflating: people_detection-master/keras-frcnn/keras_frcnn/data_generators.py  \n",
            "  inflating: people_detection-master/keras-frcnn/keras_frcnn/losses.py  \n",
            "  inflating: people_detection-master/keras-frcnn/keras_frcnn/pascal_voc_parser.py  \n",
            "  inflating: people_detection-master/keras-frcnn/keras_frcnn/resnet.py  \n",
            "  inflating: people_detection-master/keras-frcnn/keras_frcnn/roi_helpers.py  \n",
            "  inflating: people_detection-master/keras-frcnn/keras_frcnn/simple_parser.py  \n",
            "  inflating: people_detection-master/keras-frcnn/keras_frcnn/vgg.py  \n",
            "  inflating: people_detection-master/keras-frcnn/measure_map.py  \n",
            "   creating: people_detection-master/keras-frcnn/neg_img_train/\n",
            "  inflating: people_detection-master/keras-frcnn/neg_img_train/config.pickle  \n",
            " extracting: people_detection-master/keras-frcnn/requirements.txt  \n",
            "  inflating: people_detection-master/keras-frcnn/test_frcnn.py  \n",
            "  inflating: people_detection-master/keras-frcnn/train_frcnn.py  \n",
            "   creating: people_detection-master/test_results/\n",
            "  inflating: people_detection-master/test_results/.DS_Store  \n",
            " extracting: people_detection-master/test_results/multiperson.png  \n",
            "  inflating: people_detection-master/test_results/plot.png  \n",
            "  inflating: people_detection-master/test_results/screeenshot1.png  \n",
            "  inflating: people_detection-master/test_results/screenshot.png  \n",
            "  inflating: people_detection-master/test_results/verbose.png  \n"
          ]
        }
      ]
    },
    {
      "cell_type": "code",
      "source": [],
      "metadata": {
        "id": "I7X3PgMpZcje"
      },
      "execution_count": null,
      "outputs": []
    }
  ]
}